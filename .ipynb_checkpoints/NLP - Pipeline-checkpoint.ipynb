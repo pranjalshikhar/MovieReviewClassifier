{
 "cells": [
  {
   "cell_type": "markdown",
   "metadata": {},
   "source": [
    "## Create a NLP Pipeline to 'Clean' Reviews Data\n",
    "- Load Input File and Read Reviews\n",
    "- Tokenize\n",
    "- Remove Stopwords\n",
    "- Perform Stemming\n",
    "- Write cleaned data to output file"
   ]
  },
  {
   "cell_type": "code",
   "execution_count": 1,
   "metadata": {},
   "outputs": [],
   "source": [
    "sample_text = \"\"\"\n",
    "    First things first, Edison Chen did a fantastic, believable job as a Cambodian hit-man, \n",
    "    born and bred in the dumps and a gladiatorial ring, where he honed his craft of savage battery in order to survive, \n",
    "    living on the mantra of kill or be killed. In a role that had little dialogue, or at least a few lines in Cambodian/Thai,\n",
    "    his performance is compelling, probably what should have been in the Jet Li vehicle Danny the Dog, \n",
    "    where a man is bred for the sole purpose of fighting, and on someone else's leash.<br /><br />Like Danny the Dog, \n",
    "    the much talked about bare knuckle fight sequences are not choreographed stylistically, but rather designed as normal, \n",
    "    brutal fisticuffs, where everything goes. This probably brought a sense of realism and grit when you see the characters \n",
    "    slug it out at each other's throats, in defending their own lives while taking it away from others. It's a grim, gritty \n",
    "    and dark movie both literally and figuratively, and this sets it apart from the usual run off the mill cop thriller \n",
    "    production.<br /><br />Edison plays a hired gun from Cambodia, who becomes a fugitive in Hong Kong, on the run from the \n",
    "    cops as his pickup had gone awry. Leading the chase is the team led by Cheung Siu-Fai, who has to contend with maverick \n",
    "    member Inspector Ti (Sam Lee), who's inclusion and acceptance in the team had to do with the sins of his father. \n",
    "    So begins a cat and mouse game in the dark shades and shadows of the seedier looking side of Hong Kong.<br /><br />\n",
    "    The story itself works on multiple levels, especially in the character studies of the hit-man, and the cop. \n",
    "    On opposite sides of the law, we see within each character not the black and white, but the shades of grey. \n",
    "    With the hit-man, we see his caring side when he got hooked up and developed feelings of love for a girl (Pei Pei), \n",
    "    bringing about a sense of maturity, tenderness, and revealing a heart of gold. The cop, with questionable tactics and \n",
    "    attitudes, makes you wonder how one would buckle when willing to do anything it takes to get the job done. \n",
    "    There are many interesting moments of moral questioning, on how anti-hero, despicable strategies are adopted. \n",
    "    You'll ask, what makes a man, and what makes a beast, and if we have the tendency to switch sides depending on \n",
    "    circumstances - do we have that dark inner streak in all of us, transforming from man to dog, and dog to man? \n",
    "    Dog Bite Dog grips you from the start and never lets go until the end, though there are points mid way through \n",
    "    that seemed to drag, especially on its tender moments, and it suffered too from not knowing when to end. \n",
    "    If I should pick a favourite scene, then it must be the one in the market food centre - extremely well controlled and \n",
    "    delivered, a suspenseful edge of your seat moment. Listen out for the musical score too, and you're not dreaming if you \n",
    "    hear growls of dogs.<br /><br />Highly recommended, especially if you think that you've seen about almost everything from \n",
    "    the cop thriller genre.\"\"\""
   ]
  },
  {
   "cell_type": "markdown",
   "metadata": {},
   "source": [
    "#### NLTK"
   ]
  },
  {
   "cell_type": "code",
   "execution_count": 2,
   "metadata": {},
   "outputs": [],
   "source": [
    "from nltk.tokenize import RegexpTokenizer\n",
    "from nltk.stem.porter import PorterStemmer\n",
    "from nltk.corpus import stopwords\n",
    "import sys"
   ]
  },
  {
   "cell_type": "code",
   "execution_count": 3,
   "metadata": {},
   "outputs": [],
   "source": [
    "# Initialize Objects\n",
    "tokenizer = RegexpTokenizer(r'\\w+')\n",
    "en_stopwords = set(stopwords.words('english'))\n",
    "ps = PorterStemmer()"
   ]
  },
  {
   "cell_type": "code",
   "execution_count": 4,
   "metadata": {},
   "outputs": [],
   "source": [
    "def getStemmedReview(review):\n",
    "    \n",
    "    review = review.lower()\n",
    "    review = review.replace('<br /><br />',' ')\n",
    "    \n",
    "    # Tokenize\n",
    "    tokens = tokenizer.tokenize(review)\n",
    "    new_tokens = [token for token in tokens if token not in en_stopwords]\n",
    "    stemmed_tokens = [ps.stem(tokens) for tokens in new_tokens]\n",
    "    \n",
    "    cleaned_review = ' '.join(stemmed_tokens)\n",
    "    \n",
    "    return cleaned_review\n",
    "    "
   ]
  },
  {
   "cell_type": "code",
   "execution_count": 5,
   "metadata": {},
   "outputs": [
    {
     "data": {
      "text/plain": [
       "'first thing first edison chen fantast believ job cambodian hit man born bred dump gladiatori ring hone craft savag batteri order surviv live mantra kill kill role littl dialogu least line cambodian thai perform compel probabl jet li vehicl danni dog man bred sole purpos fight someon els leash like danni dog much talk bare knuckl fight sequenc choreograph stylist rather design normal brutal fisticuff everyth goe probabl brought sens realism grit see charact slug throat defend live take away other grim gritti dark movi liter figur set apart usual run mill cop thriller product edison play hire gun cambodia becom fugit hong kong run cop pickup gone awri lead chase team led cheung siu fai contend maverick member inspector ti sam lee inclus accept team sin father begin cat mous game dark shade shadow seedier look side hong kong stori work multipl level especi charact studi hit man cop opposit side law see within charact black white shade grey hit man see care side got hook develop feel love girl pei pei bring sens matur tender reveal heart gold cop question tactic attitud make wonder one would buckl will anyth take get job done mani interest moment moral question anti hero despic strategi adopt ask make man make beast tendenc switch side depend circumst dark inner streak us transform man dog dog man dog bite dog grip start never let go end though point mid way seem drag especi tender moment suffer know end pick favourit scene must one market food centr extrem well control deliv suspens edg seat moment listen music score dream hear growl dog highli recommend especi think seen almost everyth cop thriller genr'"
      ]
     },
     "execution_count": 5,
     "metadata": {},
     "output_type": "execute_result"
    }
   ],
   "source": [
    "getStemmedReview(sample_text)"
   ]
  },
  {
   "cell_type": "code",
   "execution_count": null,
   "metadata": {},
   "outputs": [],
   "source": []
  }
 ],
 "metadata": {
  "kernelspec": {
   "display_name": "Python 3",
   "language": "python",
   "name": "python3"
  },
  "language_info": {
   "codemirror_mode": {
    "name": "ipython",
    "version": 3
   },
   "file_extension": ".py",
   "mimetype": "text/x-python",
   "name": "python",
   "nbconvert_exporter": "python",
   "pygments_lexer": "ipython3",
   "version": "3.8.3"
  }
 },
 "nbformat": 4,
 "nbformat_minor": 4
}
